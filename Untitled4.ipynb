{
  "nbformat": 4,
  "nbformat_minor": 0,
  "metadata": {
    "colab": {
      "provenance": [],
      "authorship_tag": "ABX9TyNurAFJ5ekjbnFaWs3bxDOW",
      "include_colab_link": true
    },
    "kernelspec": {
      "name": "python3",
      "display_name": "Python 3"
    },
    "language_info": {
      "name": "python"
    }
  },
  "cells": [
    {
      "cell_type": "markdown",
      "metadata": {
        "id": "view-in-github",
        "colab_type": "text"
      },
      "source": [
        "<a href=\"https://colab.research.google.com/github/Dharanee3045/Dharanee-lab-test1/blob/main/Untitled4.ipynb\" target=\"_parent\"><img src=\"https://colab.research.google.com/assets/colab-badge.svg\" alt=\"Open In Colab\"/></a>"
      ]
    },
    {
      "cell_type": "code",
      "execution_count": null,
      "metadata": {
        "colab": {
          "base_uri": "https://localhost:8080/"
        },
        "id": "b2uR5WQ_yohg",
        "outputId": "3e2dcbda-a0ce-48b6-ab39-c081180b55d0"
      },
      "outputs": [
        {
          "output_type": "stream",
          "name": "stdout",
          "text": [
            "Drive already mounted at /content/drive; to attempt to forcibly remount, call drive.mount(\"/content/drive\", force_remount=True).\n"
          ]
        }
      ],
      "source": [
        "from google.colab import drive\n",
        "drive.mount('/content/drive')"
      ]
    },
    {
      "cell_type": "code",
      "source": [
        "import pandas as pd"
      ],
      "metadata": {
        "id": "0EzRedhjzWtd"
      },
      "execution_count": null,
      "outputs": []
    },
    {
      "cell_type": "code",
      "source": [
        "file_path ='/content/drive/MyDrive/ODD (2).xlsx'\n",
        "df = pd.read_excel(file_path)\n"
      ],
      "metadata": {
        "id": "tE7szBJ-zk-2"
      },
      "execution_count": 17,
      "outputs": []
    },
    {
      "cell_type": "code",
      "source": [
        "df.info()"
      ],
      "metadata": {
        "colab": {
          "base_uri": "https://localhost:8080/"
        },
        "id": "TNc14y_c0qCG",
        "outputId": "81eb3919-1be8-430f-9cfe-37a13c15f9e2"
      },
      "execution_count": 18,
      "outputs": [
        {
          "output_type": "stream",
          "name": "stdout",
          "text": [
            "<class 'pandas.core.frame.DataFrame'>\n",
            "RangeIndex: 100 entries, 0 to 99\n",
            "Data columns (total 7 columns):\n",
            " #   Column                     Non-Null Count  Dtype  \n",
            "---  ------                     --------------  -----  \n",
            " 0   Employee_Name              91 non-null     object \n",
            " 1   Employee_ID                100 non-null    int64  \n",
            " 2   Job_Role                   90 non-null     object \n",
            " 3   Phone_Number               92 non-null     float64\n",
            " 4   Email_ID                   91 non-null     object \n",
            " 5   Total_Work_Hour_per_Month  77 non-null     float64\n",
            " 6   Salary_per_Month           80 non-null     float64\n",
            "dtypes: float64(3), int64(1), object(3)\n",
            "memory usage: 5.6+ KB\n"
          ]
        }
      ]
    },
    {
      "cell_type": "markdown",
      "source": [
        "1.Are there missing values in any columns? If so, in which columns?"
      ],
      "metadata": {
        "id": "l5H6s4m04sOU"
      }
    },
    {
      "cell_type": "code",
      "source": [
        "import pandas as pd\n",
        "\n",
        "# Assuming you already have a DataFrame called 'df'\n",
        "# Check for missing values\n",
        "missing_values = df.isnull().sum()\n",
        "\n",
        "# Print columns with missing values\n",
        "print(missing_values[missing_values > 0])\n"
      ],
      "metadata": {
        "colab": {
          "base_uri": "https://localhost:8080/"
        },
        "id": "qlcH9Vok4t18",
        "outputId": "7eabecfd-6ae2-418d-92b5-a906f7d07004"
      },
      "execution_count": 20,
      "outputs": [
        {
          "output_type": "stream",
          "name": "stdout",
          "text": [
            "Employee_Name                 9\n",
            "Job_Role                     10\n",
            "Phone_Number                  8\n",
            "Email_ID                      9\n",
            "Total_Work_Hour_per_Month    23\n",
            "Salary_per_Month             20\n",
            "dtype: int64\n"
          ]
        }
      ]
    },
    {
      "cell_type": "markdown",
      "source": [
        "2.What is the data type of each column, and are they appropriate for their context?"
      ],
      "metadata": {
        "id": "OdKn6LD_5CqM"
      }
    },
    {
      "cell_type": "code",
      "source": [
        "import pandas as pd\n",
        "\n",
        "# Assuming you already have a DataFrame called 'df'\n",
        "# Get the data types of each column\n",
        "data_types = df.dtypes\n",
        "\n",
        "# Print data types of each column\n",
        "print(data_types)\n"
      ],
      "metadata": {
        "colab": {
          "base_uri": "https://localhost:8080/"
        },
        "id": "_IU1RPk35O-P",
        "outputId": "126f3eab-967d-47c1-c11f-e3b5d3f82995"
      },
      "execution_count": 21,
      "outputs": [
        {
          "output_type": "stream",
          "name": "stdout",
          "text": [
            "Employee_Name                 object\n",
            "Employee_ID                    int64\n",
            "Job_Role                      object\n",
            "Phone_Number                 float64\n",
            "Email_ID                      object\n",
            "Total_Work_Hour_per_Month    float64\n",
            "Salary_per_Month             float64\n",
            "dtype: object\n"
          ]
        }
      ]
    },
    {
      "cell_type": "markdown",
      "source": [
        "3.Some employees have “9999” in the Total_Work_Hour_per_Month column. What does this represent, and should it be replaced?"
      ],
      "metadata": {
        "id": "hW4zI7195rKM"
      }
    },
    {
      "cell_type": "code",
      "source": [
        "import pandas as pd\n",
        "import numpy as np\n",
        "\n",
        "# Sample dataframe\n",
        "data = {'Employee_ID': [1, 2, 3, 4],\n",
        "        'Total_Work_Hour_per_Month': [160, 9999, 170, 9999]}\n",
        "df = pd.DataFrame(data)\n",
        "\n",
        "# Replace '9999' in 'Total_Work_Hour_per_Month' column with NaN\n",
        "df['Total_Work_Hour_per_Month'] = df['Total_Work_Hour_per_Month'].replace(9999, np.nan)\n",
        "\n",
        "# Check the updated dataframe\n",
        "print(df)\n"
      ],
      "metadata": {
        "colab": {
          "base_uri": "https://localhost:8080/"
        },
        "id": "PamNmoxJ7Sa0",
        "outputId": "bd66b9cb-c984-4fad-aef0-50b06c79aa4d"
      },
      "execution_count": 25,
      "outputs": [
        {
          "output_type": "stream",
          "name": "stdout",
          "text": [
            "   Employee_ID  Total_Work_Hour_per_Month\n",
            "0            1                      160.0\n",
            "1            2                        NaN\n",
            "2            3                      170.0\n",
            "3            4                        NaN\n"
          ]
        }
      ]
    },
    {
      "cell_type": "markdown",
      "source": [
        "4.The Phone_Number column has inconsistent formats. What steps can be taken to standardize it?\n"
      ],
      "metadata": {
        "id": "cd35__Tq7YLt"
      }
    },
    {
      "cell_type": "code",
      "source": [
        "import pandas as pd\n",
        "import re\n",
        "\n",
        "# Sample dataframe\n",
        "data = {'Employee_ID': [1, 2, 3, 4],\n",
        "        'Phone_Number': ['(123) 456-7890', '123.456.7890', '123-456-7890', '456 789 0123']}\n",
        "df = pd.DataFrame(data)\n",
        "\n",
        "# Function to standardize phone numbers\n",
        "def standardize_phone_number(phone):\n",
        "    # Remove all non-numeric characters\n",
        "    phone = re.sub(r'\\D', '', phone)\n",
        "\n",
        "    # Ensure the phone number is 10 digits long (e.g., in case it's too long or too short)\n",
        "    if len(phone) == 10:\n",
        "        # Format as (XXX) XXX-XXXX\n",
        "        return f\"({phone[:3]}) {phone[3:6]}-{phone[6:]}\"\n",
        "    else:\n",
        "        return None  # Or you can return a placeholder if the length is incorrect\n",
        "\n",
        "# Apply the function to the Phone_Number column\n",
        "df['Phone_Number'] = df['Phone_Number'].apply(standardize_phone_number)\n",
        "\n",
        "# Print the updated dataframe\n",
        "print(df)\n"
      ],
      "metadata": {
        "colab": {
          "base_uri": "https://localhost:8080/"
        },
        "id": "Nt_o3x1H8EAt",
        "outputId": "3f1d6795-3178-4bb7-cba6-c261c1a44138"
      },
      "execution_count": 26,
      "outputs": [
        {
          "output_type": "stream",
          "name": "stdout",
          "text": [
            "   Employee_ID    Phone_Number\n",
            "0            1  (123) 456-7890\n",
            "1            2  (123) 456-7890\n",
            "2            3  (123) 456-7890\n",
            "3            4  (456) 789-0123\n"
          ]
        }
      ]
    },
    {
      "cell_type": "markdown",
      "source": [
        "5.Compute an \"Hourly Wage\" column from Salary_per_Month and Total_Work_Hour_per_Month?"
      ],
      "metadata": {
        "id": "N-ycGbHa8JP0"
      }
    },
    {
      "cell_type": "code",
      "source": [
        "import pandas as pd\n",
        "\n",
        "# Sample dataframe\n",
        "data = {'Employee_ID': [1, 2, 3, 4],\n",
        "        'Salary_per_Month': [3000, 4000, 3500, 4500],\n",
        "        'Total_Work_Hour_per_Month': [160, 180, 170, 160]}\n",
        "df = pd.DataFrame(data)\n",
        "\n",
        "# Compute Hourly Wage\n",
        "df['Hourly_Wage'] = df['Salary_per_Month'] / df['Total_Work_Hour_per_Month']\n",
        "\n",
        "# Print the updated dataframe\n",
        "print(df)\n"
      ],
      "metadata": {
        "colab": {
          "base_uri": "https://localhost:8080/"
        },
        "id": "AWMcXqLS8M4O",
        "outputId": "4969d0fc-bc55-4a09-a8d5-73554c6c5320"
      },
      "execution_count": 28,
      "outputs": [
        {
          "output_type": "stream",
          "name": "stdout",
          "text": [
            "   Employee_ID  Salary_per_Month  Total_Work_Hour_per_Month  Hourly_Wage\n",
            "0            1              3000                        160    18.750000\n",
            "1            2              4000                        180    22.222222\n",
            "2            3              3500                        170    20.588235\n",
            "3            4              4500                        160    28.125000\n"
          ]
        }
      ]
    }
  ]
}